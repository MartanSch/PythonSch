{
 "cells": [
  {
   "cell_type": "code",
   "execution_count": 4,
   "id": "378a3563-d68f-4ab0-8503-bcac78ba7be2",
   "metadata": {},
   "outputs": [],
   "source": [
    "import pandas as pd\n",
    "import numpy as np\n",
    "import matplotlib.pyplot as plt"
   ]
  },
  {
   "cell_type": "code",
   "execution_count": 124,
   "id": "2d43023a-44cb-480f-bb89-155f317912d5",
   "metadata": {},
   "outputs": [
    {
     "data": {
      "text/plain": [
       "{'COO':               Open    High     Low   Close   Volume  Dividends  Stock Splits\n",
       " Date                                                                        \n",
       " 2017-01-03  43.858  43.988  43.451  43.726  2448800        0.0           0.0\n",
       " 2017-01-04  43.689  44.580  43.561  44.472  1511600        0.0           0.0\n",
       " 2017-01-05  44.435  44.435  43.803  44.031  2024800        0.0           0.0\n",
       " 2017-01-06  44.026  44.482  43.763  44.240  1376000        0.0           0.0\n",
       " 2017-01-09  44.340  44.620  44.076  44.458  2110000        0.0           0.0\n",
       " ...            ...     ...     ...     ...      ...        ...           ...\n",
       " 2022-12-23  82.381  83.259  81.994  83.169   936800        0.0           0.0\n",
       " 2022-12-27  83.396  84.036  82.559  83.346   896800        0.0           0.0\n",
       " 2022-12-28  83.356  84.009  82.056  82.084   612400        0.0           0.0\n",
       " 2022-12-29  82.814  84.469  82.461  83.581   560400        0.0           0.0\n",
       " 2022-12-30  82.986  83.569  81.771  82.654  1027600        0.0           0.0\n",
       " \n",
       " [1510 rows x 7 columns],\n",
       " 'ON':              Open   High    Low  Close    Volume  Dividends  Stock Splits\n",
       " Date                                                                     \n",
       " 2017-01-03  12.75  12.93  12.37  12.69  10438500        0.0           0.0\n",
       " 2017-01-04  13.07  13.33  12.93  13.00   9216800        0.0           0.0\n",
       " 2017-01-05  13.03  13.13  12.77  12.85   7193400        0.0           0.0\n",
       " 2017-01-06  12.84  13.07  12.82  13.01   5747200        0.0           0.0\n",
       " 2017-01-09  13.02  13.45  13.01  13.34   7460800        0.0           0.0\n",
       " ...           ...    ...    ...    ...       ...        ...           ...\n",
       " 2022-12-23  61.44  62.54  60.69  62.39   3351500        0.0           0.0\n",
       " 2022-12-27  61.94  62.17  60.98  61.36   5072500        0.0           0.0\n",
       " 2022-12-28  60.71  61.80  59.77  60.28   3576400        0.0           0.0\n",
       " 2022-12-29  61.85  63.05  61.09  62.71   5253300        0.0           0.0\n",
       " 2022-12-30  61.53  62.44  60.87  62.37   2650100        0.0           0.0\n",
       " \n",
       " [1510 rows x 7 columns],\n",
       " 'PG':                Open     High      Low    Close    Volume  Dividends  \\\n",
       " Date                                                                  \n",
       " 2017-01-03   67.545   67.955   67.239   67.802   8792700        0.0   \n",
       " 2017-01-04   68.004   68.125   67.835   68.044   8096700        0.0   \n",
       " 2017-01-05   67.972   68.793   67.947   68.495   6852400        0.0   \n",
       " 2017-01-06   68.398   68.648   68.141   68.471   4799900        0.0   \n",
       " 2017-01-09   67.690   68.173   67.440   67.963  11000600        0.0   \n",
       " ...             ...      ...      ...      ...       ...        ...   \n",
       " 2022-12-23  144.931  145.511  144.322  145.226   3401800        0.0   \n",
       " 2022-12-27  145.302  146.844  145.264  146.492   4215100        0.0   \n",
       " 2022-12-28  146.806  147.158  144.541  144.598   4197500        0.0   \n",
       " 2022-12-29  145.407  145.816  144.769  145.197   3809100        0.0   \n",
       " 2022-12-30  145.045  145.283  143.152  144.217   4532000        0.0   \n",
       " \n",
       "             Stock Splits  \n",
       " Date                      \n",
       " 2017-01-03           0.0  \n",
       " 2017-01-04           0.0  \n",
       " 2017-01-05           0.0  \n",
       " 2017-01-06           0.0  \n",
       " 2017-01-09           0.0  \n",
       " ...                  ...  \n",
       " 2022-12-23           0.0  \n",
       " 2022-12-27           0.0  \n",
       " 2022-12-28           0.0  \n",
       " 2022-12-29           0.0  \n",
       " 2022-12-30           0.0  \n",
       " \n",
       " [1510 rows x 7 columns],\n",
       " 'TFX':                Open     High      Low    Close  Volume  Dividends  \\\n",
       " Date                                                                \n",
       " 2017-01-03  154.798  154.798  151.421  152.438  453600        0.0   \n",
       " 2017-01-04  153.225  156.478  153.186  156.267  326600        0.0   \n",
       " 2017-01-05  156.267  157.188  155.038  155.508  271200        0.0   \n",
       " 2017-01-06  159.097  159.913  157.005  158.637  564300        0.0   \n",
       " 2017-01-09  158.243  159.424  157.169  158.301  199800        0.0   \n",
       " ...             ...      ...      ...      ...     ...        ...   \n",
       " 2022-12-23  244.216  246.606  242.043  245.747  276000        0.0   \n",
       " 2022-12-27  246.942  247.258  244.226  245.806  198500        0.0   \n",
       " 2022-12-28  247.308  249.974  243.959  244.503  348000        0.0   \n",
       " 2022-12-29  246.359  251.584  244.384  248.256  210900        0.0   \n",
       " 2022-12-30  246.468  247.318  244.157  246.557  240800        0.0   \n",
       " \n",
       "             Stock Splits  \n",
       " Date                      \n",
       " 2017-01-03           0.0  \n",
       " 2017-01-04           0.0  \n",
       " 2017-01-05           0.0  \n",
       " 2017-01-06           0.0  \n",
       " 2017-01-09           0.0  \n",
       " ...                  ...  \n",
       " 2022-12-23           0.0  \n",
       " 2022-12-27           0.0  \n",
       " 2022-12-28           0.0  \n",
       " 2022-12-29           0.0  \n",
       " 2022-12-30           0.0  \n",
       " \n",
       " [1510 rows x 7 columns]}"
      ]
     },
     "execution_count": 124,
     "metadata": {},
     "output_type": "execute_result"
    }
   ],
   "source": [
    "files = {\n",
    "    \"COO\": \"COO.csv\",\n",
    "    \"ON\": \"ON.csv\",\n",
    "    \"PG\": \"PG.csv\",\n",
    "    \"TFX\": \"TFX.csv\"\n",
    "}\n",
    "\n",
    "# Read all datasets into a dictionary of DataFrames\n",
    "dataframes = {name: pd.read_csv(filepath, parse_dates=[\"Date\"]).set_index(\"Date\") for name, filepath in files.items()}\n",
    "dataframes"
   ]
  },
  {
   "cell_type": "code",
   "execution_count": 18,
   "id": "6a224e2b-6e18-4ca5-b23e-773d2b4c5123",
   "metadata": {},
   "outputs": [
    {
     "name": "stdout",
     "output_type": "stream",
     "text": [
      "COO: The highest Price = 113.942, The lowest Price = 43.726\n",
      "ON: The highest Price = 76.71, The lowest Price = 8.45\n",
      "PG: The highest Price = 153.402, The lowest Price = 59.91\n",
      "TFX: The highest Price = 434.906, The lowest Price = 152.438\n"
     ]
    }
   ],
   "source": [
    "#PT 1, task 2\n",
    "\n",
    "for company, df in dataframes.items():\n",
    "    highest_price = df[\"Close\"].max()\n",
    "    lowest_price = df[\"Close\"].min()\n",
    "    print(f\"{company}: The highest Price = {highest_price}, The lowest Price = {lowest_price}\\n\")"
   ]
  },
  {
   "cell_type": "code",
   "execution_count": 98,
   "id": "5da049ac-4d94-4148-a751-8615e5b44c00",
   "metadata": {},
   "outputs": [
    {
     "name": "stdout",
     "output_type": "stream",
     "text": [
      "COO: Log Returns Statistics \n",
      " count    1509.000000\n",
      "mean        0.000422\n",
      "std         0.017842\n",
      "min        -0.145442\n",
      "25%        -0.007861\n",
      "50%         0.001273\n",
      "75%         0.008996\n",
      "max         0.098971\n",
      "Name: log_return, dtype: float64\n",
      "\n",
      "ON: Log Returns Statistics \n",
      " count    1509.000000\n",
      "mean        0.001055\n",
      "std         0.032675\n",
      "min        -0.312519\n",
      "25%        -0.014875\n",
      "50%         0.001696\n",
      "75%         0.017858\n",
      "max         0.218161\n",
      "Name: log_return, dtype: float64\n",
      "\n",
      "PG: Log Returns Statistics \n",
      " count    1509.000000\n",
      "mean        0.000500\n",
      "std         0.012861\n",
      "min        -0.091427\n",
      "25%        -0.004848\n",
      "50%         0.000761\n",
      "75%         0.006647\n",
      "max         0.113408\n",
      "Name: log_return, dtype: float64\n",
      "\n",
      "TFX: Log Returns Statistics \n",
      " count    1509.000000\n",
      "mean        0.000319\n",
      "std         0.019604\n",
      "min        -0.138926\n",
      "25%        -0.008124\n",
      "50%         0.000658\n",
      "75%         0.010917\n",
      "max         0.127229\n",
      "Name: log_return, dtype: float64\n",
      "\n"
     ]
    }
   ],
   "source": [
    "#PT 1, task 3\n",
    "\n",
    "for company, df in dataframes.items():\n",
    "    df[\"log_return\"] = np.log(df[\"Close\"] / df[\"Close\"].shift(1))\n",
    "    print(f\"{company}: Log Returns Statistics \\n {df[\"log_return\"].describe()}\\n\")"
   ]
  },
  {
   "cell_type": "code",
   "execution_count": 113,
   "id": "590202bc-337a-492d-8cdf-9bcb08b3b023",
   "metadata": {},
   "outputs": [
    {
     "name": "stdout",
     "output_type": "stream",
     "text": [
      "COO:\n",
      "highest gain: 2022-11-10 00:00:00\n",
      "lowest gain: 2020-03-12 00:00:00\n",
      "\n",
      "ON:\n",
      "highest gain: 2020-03-19 00:00:00\n",
      "lowest gain: 2020-03-18 00:00:00\n",
      "\n",
      "PG:\n",
      "highest gain: 2020-03-13 00:00:00\n",
      "lowest gain: 2020-03-12 00:00:00\n",
      "\n",
      "TFX:\n",
      "highest gain: 2020-03-24 00:00:00\n",
      "lowest gain: 2020-03-12 00:00:00\n",
      "\n"
     ]
    }
   ],
   "source": [
    "#PT 1, task 4\n",
    "\n",
    "for company, df in dataframes.items():\n",
    "    print(F\"{company}:\")\n",
    "    print(f\"highest gain: {np.log(df[\"Close\"] / df[\"Close\"].shift(1)).idxmax()}\")\n",
    "    print(f\"lowest gain: {np.log(df[\"Close\"] / df[\"Close\"].shift(1)).idxmin()}\\n\")"
   ]
  },
  {
   "cell_type": "code",
   "execution_count": 90,
   "id": "40bc52aa-8aad-4ca8-9a1e-097c3ab338a3",
   "metadata": {},
   "outputs": [
    {
     "name": "stdout",
     "output_type": "stream",
     "text": [
      "\n",
      "(COO): average volume weakly = 1382302.108626198\n",
      "\n",
      "(ON): average volume weakly = 6788780.559105432\n",
      "\n",
      "(PG): average volume weakly = 7900000.143769968\n",
      "\n",
      "(TFX): average volume weakly = 297543.5303514377\n"
     ]
    }
   ],
   "source": [
    "#pt 1, task 5\n",
    "\n",
    "for company, df in dataframes.items():\n",
    "    weekly_volume = df[\"Volume\"].resample(\"W\").mean()\n",
    "    average_weekly_volume = weekly_volume.mean()\n",
    "    print(f\"({company}): average volume weakly = {average_weekly_volume}\\n\")"
   ]
  },
  {
   "cell_type": "code",
   "execution_count": 189,
   "id": "9796e5bd-4833-496f-b3b6-654160b8923d",
   "metadata": {},
   "outputs": [
    {
     "name": "stdout",
     "output_type": "stream",
     "text": [
      "Company with Highest Total Return = ON (3.914893617021277)\n"
     ]
    }
   ],
   "source": [
    "#tp 1, task 6\n",
    "\n",
    "total_returns = {}\n",
    "for company, df in dataframes.items():\n",
    "    total_return = (df[\"Close\"].iloc[-1] / df[\"Close\"].iloc[0]) - 1\n",
    "    total_returns[company] = total_return\n",
    "\n",
    "maxreturn = 0\n",
    "for company, df in dataframes.items():\n",
    "    if maxreturn < ((df[\"Close\"].iloc[-1] / df[\"Close\"].iloc[0]) - 1):\n",
    "        maxreturn = ((df[\"Close\"].iloc[-1] / df[\"Close\"].iloc[0]) - 1)\n",
    "    \n",
    "\n",
    "highest_return_company = max(total_returns, key=total_returns.get)\n",
    "print(f\"Company with Highest Total Return = {highest_return_company} ({maxreturn})\")"
   ]
  },
  {
   "cell_type": "code",
   "execution_count": 192,
   "id": "c6c0e8f8-1cc3-48bc-93ad-d04332185436",
   "metadata": {},
   "outputs": [
    {
     "name": "stdout",
     "output_type": "stream",
     "text": [
      "\n",
      "Task 7 (COO): Volume Quartile Categories Created\n",
      "\n",
      "Task 7 (ON): Volume Quartile Categories Created\n",
      "\n",
      "Task 7 (PG): Volume Quartile Categories Created\n",
      "\n",
      "Task 7 (TFX): Volume Quartile Categories Created\n"
     ]
    }
   ],
   "source": [
    "# pt 2, task 7\n",
    "\n",
    "for company, df in dataframes.items():\n",
    "    volume_classes = pd.qcut(df[\"Volume\"], q=4, labels=[\"Low\", \"Medium\", \"High\", \"Very High\"])\n",
    "    df[\"volume_class\"] = volume_classes\n",
    "    print(f\"\\nTask 7 ({company}): Volume Quartile Categories Created\")"
   ]
  },
  {
   "cell_type": "code",
   "execution_count": null,
   "id": "24b7b676-98a8-4d8d-88a6-435e46ef0a72",
   "metadata": {},
   "outputs": [],
   "source": []
  }
 ],
 "metadata": {
  "kernelspec": {
   "display_name": "Python 3 (ipykernel)",
   "language": "python",
   "name": "python3"
  },
  "language_info": {
   "codemirror_mode": {
    "name": "ipython",
    "version": 3
   },
   "file_extension": ".py",
   "mimetype": "text/x-python",
   "name": "python",
   "nbconvert_exporter": "python",
   "pygments_lexer": "ipython3",
   "version": "3.12.4"
  }
 },
 "nbformat": 4,
 "nbformat_minor": 5
}
